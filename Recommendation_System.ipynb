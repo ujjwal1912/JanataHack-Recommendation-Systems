{
  "nbformat": 4,
  "nbformat_minor": 0,
  "metadata": {
    "colab": {
      "name": "Recommendation_System.ipynb",
      "provenance": []
    },
    "kernelspec": {
      "name": "python3",
      "display_name": "Python 3"
    },
    "accelerator": "GPU"
  },
  "cells": [
    {
      "cell_type": "code",
      "metadata": {
        "id": "TpHVjzLFw_Lu",
        "colab_type": "code",
        "colab": {
          "base_uri": "https://localhost:8080/",
          "height": 34
        },
        "outputId": "730390f5-c78f-48c2-9441-80531593d4e0"
      },
      "source": [
        "import pandas as pd\n",
        "import numpy as np\n",
        "import zipfile\n",
        "from gensim.models import Word2Vec\n",
        "from random import sample\n",
        "import pickle\n",
        "\n",
        "from keras.models import Sequential\n",
        "from keras.layers.core import Dense, Dropout, Activation\n",
        "from keras.layers.recurrent import GRU\n",
        "from keras.layers.embeddings import Embedding"
      ],
      "execution_count": 1,
      "outputs": [
        {
          "output_type": "stream",
          "text": [
            "Using TensorFlow backend.\n"
          ],
          "name": "stderr"
        }
      ]
    },
    {
      "cell_type": "code",
      "metadata": {
        "id": "V3YVEwM2veIw",
        "colab_type": "code",
        "colab": {}
      },
      "source": [
        "zf = zipfile.ZipFile('/content/drive/My Drive/Data Hack/Data/train_mddNHeX.zip')\n",
        "train = pd.read_csv(zf.open('train.csv'))\n",
        "\n",
        "zf = zipfile.ZipFile('/content/drive/My Drive/Data Hack/Data/test_HLxMpl7.zip')\n",
        "test = pd.read_csv(zf.open('test.csv'))"
      ],
      "execution_count": 2,
      "outputs": []
    },
    {
      "cell_type": "code",
      "metadata": {
        "id": "U1AjZT8Kw7jl",
        "colab_type": "code",
        "colab": {
          "base_uri": "https://localhost:8080/",
          "height": 204
        },
        "outputId": "380275c5-5cd3-422f-b371-592ef9801e5f"
      },
      "source": [
        "train=train.groupby('user_id').challenge.apply(lambda x: ' '.join(x)).reset_index()\n",
        "train.head()"
      ],
      "execution_count": 3,
      "outputs": [
        {
          "output_type": "execute_result",
          "data": {
            "text/html": [
              "<div>\n",
              "<style scoped>\n",
              "    .dataframe tbody tr th:only-of-type {\n",
              "        vertical-align: middle;\n",
              "    }\n",
              "\n",
              "    .dataframe tbody tr th {\n",
              "        vertical-align: top;\n",
              "    }\n",
              "\n",
              "    .dataframe thead th {\n",
              "        text-align: right;\n",
              "    }\n",
              "</style>\n",
              "<table border=\"1\" class=\"dataframe\">\n",
              "  <thead>\n",
              "    <tr style=\"text-align: right;\">\n",
              "      <th></th>\n",
              "      <th>user_id</th>\n",
              "      <th>challenge</th>\n",
              "    </tr>\n",
              "  </thead>\n",
              "  <tbody>\n",
              "    <tr>\n",
              "      <th>0</th>\n",
              "      <td>4576</td>\n",
              "      <td>CI23714 CI23855 CI24917 CI23663 CI23933 CI2513...</td>\n",
              "    </tr>\n",
              "    <tr>\n",
              "      <th>1</th>\n",
              "      <td>4580</td>\n",
              "      <td>CI23663 CI23855 CI23933 CI23975 CI24530 CI2371...</td>\n",
              "    </tr>\n",
              "    <tr>\n",
              "      <th>2</th>\n",
              "      <td>4581</td>\n",
              "      <td>CI26155 CI26156 CI26157 CI26158 CI26159 CI2616...</td>\n",
              "    </tr>\n",
              "    <tr>\n",
              "      <th>3</th>\n",
              "      <td>4582</td>\n",
              "      <td>CI23855 CI24915 CI24917 CI23933 CI23663 CI2495...</td>\n",
              "    </tr>\n",
              "    <tr>\n",
              "      <th>4</th>\n",
              "      <td>4585</td>\n",
              "      <td>CI23855 CI23975 CI24917 CI25135 CI23848 CI2371...</td>\n",
              "    </tr>\n",
              "  </tbody>\n",
              "</table>\n",
              "</div>"
            ],
            "text/plain": [
              "   user_id                                          challenge\n",
              "0     4576  CI23714 CI23855 CI24917 CI23663 CI23933 CI2513...\n",
              "1     4580  CI23663 CI23855 CI23933 CI23975 CI24530 CI2371...\n",
              "2     4581  CI26155 CI26156 CI26157 CI26158 CI26159 CI2616...\n",
              "3     4582  CI23855 CI24915 CI24917 CI23933 CI23663 CI2495...\n",
              "4     4585  CI23855 CI23975 CI24917 CI25135 CI23848 CI2371..."
            ]
          },
          "metadata": {
            "tags": []
          },
          "execution_count": 3
        }
      ]
    },
    {
      "cell_type": "code",
      "metadata": {
        "id": "DmoghkFI0jbN",
        "colab_type": "code",
        "colab": {
          "base_uri": "https://localhost:8080/",
          "height": 204
        },
        "outputId": "6bd63abc-e4a4-4f30-aa74-98f44d41c1ce"
      },
      "source": [
        "test=test.groupby('user_id').challenge.apply(lambda x: ' '.join(x)).reset_index()\n",
        "test.head()"
      ],
      "execution_count": 4,
      "outputs": [
        {
          "output_type": "execute_result",
          "data": {
            "text/html": [
              "<div>\n",
              "<style scoped>\n",
              "    .dataframe tbody tr th:only-of-type {\n",
              "        vertical-align: middle;\n",
              "    }\n",
              "\n",
              "    .dataframe tbody tr th {\n",
              "        vertical-align: top;\n",
              "    }\n",
              "\n",
              "    .dataframe thead th {\n",
              "        text-align: right;\n",
              "    }\n",
              "</style>\n",
              "<table border=\"1\" class=\"dataframe\">\n",
              "  <thead>\n",
              "    <tr style=\"text-align: right;\">\n",
              "      <th></th>\n",
              "      <th>user_id</th>\n",
              "      <th>challenge</th>\n",
              "    </tr>\n",
              "  </thead>\n",
              "  <tbody>\n",
              "    <tr>\n",
              "      <th>0</th>\n",
              "      <td>4577</td>\n",
              "      <td>CI23855 CI23933 CI24917 CI24915 CI23714 CI2366...</td>\n",
              "    </tr>\n",
              "    <tr>\n",
              "      <th>1</th>\n",
              "      <td>4578</td>\n",
              "      <td>CI23663 CI23855 CI24917 CI23933 CI23975 CI2371...</td>\n",
              "    </tr>\n",
              "    <tr>\n",
              "      <th>2</th>\n",
              "      <td>4579</td>\n",
              "      <td>CI26939 CI26940 CI26941 CI26942 CI26943 CI2694...</td>\n",
              "    </tr>\n",
              "    <tr>\n",
              "      <th>3</th>\n",
              "      <td>4583</td>\n",
              "      <td>CI23663 CI23855 CI23975 CI23714 CI23848 CI2393...</td>\n",
              "    </tr>\n",
              "    <tr>\n",
              "      <th>4</th>\n",
              "      <td>4584</td>\n",
              "      <td>CI23855 CI23975 CI25135 CI23848 CI23714 CI2491...</td>\n",
              "    </tr>\n",
              "  </tbody>\n",
              "</table>\n",
              "</div>"
            ],
            "text/plain": [
              "   user_id                                          challenge\n",
              "0     4577  CI23855 CI23933 CI24917 CI24915 CI23714 CI2366...\n",
              "1     4578  CI23663 CI23855 CI24917 CI23933 CI23975 CI2371...\n",
              "2     4579  CI26939 CI26940 CI26941 CI26942 CI26943 CI2694...\n",
              "3     4583  CI23663 CI23855 CI23975 CI23714 CI23848 CI2393...\n",
              "4     4584  CI23855 CI23975 CI25135 CI23848 CI23714 CI2491..."
            ]
          },
          "metadata": {
            "tags": []
          },
          "execution_count": 4
        }
      ]
    },
    {
      "cell_type": "code",
      "metadata": {
        "id": "a_Xsj1uzqiti",
        "colab_type": "code",
        "colab": {}
      },
      "source": [
        "sentence_list=pd.concat((train.challenge,test.challenge)).apply(lambda x: x.split())"
      ],
      "execution_count": 5,
      "outputs": []
    },
    {
      "cell_type": "code",
      "metadata": {
        "id": "tc2rl4nBqmUa",
        "colab_type": "code",
        "colab": {}
      },
      "source": [
        "embed=Word2Vec(sentence_list, size=500, window=5, workers=8,min_count=0, hs=1,iter=100,sg=1)\n",
        "embed.save('/content/drive/My Drive/Data Hack/Embedding')"
      ],
      "execution_count": null,
      "outputs": []
    },
    {
      "cell_type": "code",
      "metadata": {
        "id": "hEmatuDhqsNO",
        "colab_type": "code",
        "colab": {
          "base_uri": "https://localhost:8080/",
          "height": 71
        },
        "outputId": "6932d44c-f682-4409-ba29-247af812724f"
      },
      "source": [
        "embed= Word2Vec.load('/content/drive/My Drive/Data Hack/Embedding')"
      ],
      "execution_count": 7,
      "outputs": [
        {
          "output_type": "stream",
          "text": [
            "/usr/local/lib/python3.6/dist-packages/smart_open/smart_open_lib.py:253: UserWarning: This function is deprecated, use smart_open.open instead. See the migration notes for details: https://github.com/RaRe-Technologies/smart_open/blob/master/README.rst#migrating-to-the-new-open-function\n",
            "  'See the migration notes for details: %s' % _MIGRATION_NOTES_URL\n"
          ],
          "name": "stderr"
        }
      ]
    },
    {
      "cell_type": "code",
      "metadata": {
        "id": "D0xpizMQZVly",
        "colab_type": "code",
        "colab": {
          "base_uri": "https://localhost:8080/",
          "height": 68
        },
        "outputId": "a176baea-9251-4f11-d5cd-822d1bee84a5"
      },
      "source": [
        "pretrained_weights = embed.wv.syn0\n",
        "vocab_size, emdedding_size = pretrained_weights.shape\n",
        "print('Result embedding shape:', pretrained_weights.shape)"
      ],
      "execution_count": 8,
      "outputs": [
        {
          "output_type": "stream",
          "text": [
            "Result embedding shape: (5502, 500)\n"
          ],
          "name": "stdout"
        },
        {
          "output_type": "stream",
          "text": [
            "/usr/local/lib/python3.6/dist-packages/ipykernel_launcher.py:1: DeprecationWarning: Call to deprecated `syn0` (Attribute will be removed in 4.0.0, use self.wv.vectors instead).\n",
            "  \"\"\"Entry point for launching an IPython kernel.\n"
          ],
          "name": "stderr"
        }
      ]
    },
    {
      "cell_type": "code",
      "metadata": {
        "id": "wUBZfmrkZewl",
        "colab_type": "code",
        "colab": {}
      },
      "source": [
        "def word2idx(word):\n",
        "    return embed.wv.vocab[word].index\n",
        "def idx2word(idx):\n",
        "    return embed.wv.index2word[idx]"
      ],
      "execution_count": 9,
      "outputs": []
    },
    {
      "cell_type": "code",
      "metadata": {
        "id": "eo6GonPHZi3r",
        "colab_type": "code",
        "colab": {}
      },
      "source": [
        "train_seq=np.array(train.challenge.apply(lambda x: x.split()).apply(lambda x: ([(word2idx(y)) for y in x])).tolist())\n",
        "test_seq=np.array(test.challenge.apply(lambda x: x.split()).apply(lambda x: ([(word2idx(y)) for y in x])).tolist())"
      ],
      "execution_count": 10,
      "outputs": []
    },
    {
      "cell_type": "code",
      "metadata": {
        "id": "9clBTDvaZm0y",
        "colab_type": "code",
        "colab": {
          "base_uri": "https://localhost:8080/",
          "height": 34
        },
        "outputId": "a8a4ddf1-6522-4e8d-d974-b65d20c8902d"
      },
      "source": [
        "x_train=train_seq[:,:10]\n",
        "y_train= train_seq[:,10]\n",
        "x_train.shape, y_train.shape"
      ],
      "execution_count": 11,
      "outputs": [
        {
          "output_type": "execute_result",
          "data": {
            "text/plain": [
              "((69532, 10), (69532,))"
            ]
          },
          "metadata": {
            "tags": []
          },
          "execution_count": 11
        }
      ]
    },
    {
      "cell_type": "code",
      "metadata": {
        "id": "39u6KCrNZnbN",
        "colab_type": "code",
        "colab": {}
      },
      "source": [
        "x_train=np.concatenate((x_train,x_train,x_train),axis=0)\n",
        "y_train=np.concatenate((train_seq[:,10],train_seq[:,11],train_seq[:,12]))"
      ],
      "execution_count": 12,
      "outputs": []
    },
    {
      "cell_type": "code",
      "metadata": {
        "id": "DKd3tZuorA0E",
        "colab_type": "code",
        "colab": {}
      },
      "source": [
        "embed_size=500\n",
        "vocab_size=5502\n",
        "keras_model = Sequential()\n",
        "keras_model.add(Embedding(input_dim=vocab_size, output_dim=embed_size, \n",
        "                    weights=[pretrained_weights]))\n",
        "keras_model.add(GRU(units=embed_size))\n",
        "keras_model.add(Dense(units=vocab_size))\n",
        "\n",
        "keras_model.add(Activation('softmax'))\n",
        "keras_model.compile(optimizer='adam', loss='sparse_categorical_crossentropy')"
      ],
      "execution_count": 13,
      "outputs": []
    },
    {
      "cell_type": "code",
      "metadata": {
        "id": "wI9w1OcDrCbA",
        "colab_type": "code",
        "colab": {}
      },
      "source": [
        "sample_weight=np.concatenate((np.ones(train.shape[0])*3,np.ones(train.shape[0])*2,np.ones(train.shape[0])))"
      ],
      "execution_count": 14,
      "outputs": []
    },
    {
      "cell_type": "code",
      "metadata": {
        "id": "hMmooJsBrE4d",
        "colab_type": "code",
        "colab": {}
      },
      "source": [
        "keras_model.fit(x_train,y_train, epochs=3, sample_weight=sample_weight,\n",
        "          batch_size=512, verbose=1)"
      ],
      "execution_count": null,
      "outputs": []
    },
    {
      "cell_type": "code",
      "metadata": {
        "id": "ZhlPY2SdrGco",
        "colab_type": "code",
        "colab": {}
      },
      "source": [
        "pickle.dump(keras_model.to_json(),open('gru.pkl','wb'))"
      ],
      "execution_count": 17,
      "outputs": []
    },
    {
      "cell_type": "code",
      "metadata": {
        "id": "yam1dGUnrIWe",
        "colab_type": "code",
        "colab": {}
      },
      "source": [
        "keras_model.save_weights('gru.weights')"
      ],
      "execution_count": 18,
      "outputs": []
    },
    {
      "cell_type": "code",
      "metadata": {
        "id": "WeZI_1x1rJuq",
        "colab_type": "code",
        "colab": {}
      },
      "source": [
        "def sample(preds, temperature=1.0):\n",
        "    if temperature <= 0:\n",
        "        return preds.argsort()[-3:][::-1]\n",
        "    preds = np.asarray(preds).astype('float64')\n",
        "    preds = np.log(preds) / temperature\n",
        "    exp_preds = np.exp(preds)\n",
        "    preds = exp_preds / np.sum(exp_preds)\n",
        "    probas = np.random.multinomial(1, preds, 1)\n",
        "    retar= probas[0].argsort()[-3:][::-1]\n",
        "    return retar\n",
        "\n",
        "def generate_next(text):\n",
        "    word_idxs = [word2idx(word) for word in text.split()]\n",
        "    prediction = keras_model.predict(x=np.array(word_idxs))\n",
        "    idxl = sample(prediction[-1], temperature=0.0)\n",
        "    return [idx2word(idx) for idx in idxl]"
      ],
      "execution_count": 22,
      "outputs": []
    },
    {
      "cell_type": "code",
      "metadata": {
        "id": "raGmNNb5rML4",
        "colab_type": "code",
        "colab": {}
      },
      "source": [
        "test.challenge.values[0]\n",
        "\n",
        "generate_next('CI23855 CI23933 CI24917 CI24915 CI23714 CI23663 CI24958 CI25135 CI25727 CI24530')\n",
        "\n",
        "test_inds=np.array(test.challenge.apply(lambda x: np.array([word2idx(word) for word in x.split()])).tolist())\n",
        "\n",
        "\n",
        "nnpred=keras_model.predict(test_inds)\n",
        "nnpred2= pd.Series(nnpred.argsort(axis=1)[:,-3:].tolist())\n",
        "\n",
        "count=0\n",
        "test['pred']=nnpred2.apply(lambda x: [idx2word(y) for y in x[::-1]])\n",
        "test_sub= test.copy()\n",
        "test_sub=pd.concat((test_sub,test_sub,test_sub))\n",
        "test_sub=test_sub.sort_values('user_id').reset_index(drop=True)\n",
        "test_sub['seq']=test_sub.groupby('user_id').cumcount()\n",
        "test_sub.seq= test_sub.seq+11\n",
        "test_sub['user_sequence']= test_sub.user_id.astype('str') + '_' + test_sub.seq.astype('str')\n",
        "test_sub['challenge']=test_sub.apply(lambda row: row['pred'][row['seq']-11], axis=1)\n",
        "test_sub[['user_sequence','challenge']].to_csv('submission.csv',index=False)"
      ],
      "execution_count": 24,
      "outputs": []
    },
    {
      "cell_type": "code",
      "metadata": {
        "id": "M1Rw8jHVrVxa",
        "colab_type": "code",
        "colab": {}
      },
      "source": [
        ""
      ],
      "execution_count": null,
      "outputs": []
    }
  ]
}